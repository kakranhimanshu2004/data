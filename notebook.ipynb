{
 "cells": [
  {
   "cell_type": "markdown",
   "id": "d4534c0d-02f5-4e59-aeae-8823e6320c20",
   "metadata": {},
   "source": [
    "# Final Project - Data Science Tools and Techniques"
   ]
  },
  {
   "cell_type": "markdown",
   "id": "f1a8f49a-d2e9-4920-aec7-400b9a16366d",
   "metadata": {},
   "source": [
    "## Introduction\n",
    "\n",
    "Welcome to the final project of the Data Science Tools and Techniques course. In this notebook, we will demonstrate the various data science tools and methods we have learned throughout the course. We will use Jupyterlite Notebook to share our findings and results publicly via GitHub. This project will showcase our ability to handle data, perform analysis, and visualize results effectively.\n",
    "\n"
   ]
  },
  {
   "cell_type": "markdown",
   "id": "7b2065fe-5301-41c1-8f79-e7c820652510",
   "metadata": {},
   "source": [
    "## Data Science Languages\n",
    "\n",
    "Here are some of the popular programming languages used in data science:\n",
    "\n",
    "- Python\n",
    "- R\n",
    "- SQL\n",
    "- Julia\n",
    "- Scala\n",
    "- Java\n",
    "- MATLAB\n",
    "- SAS\n"
   ]
  },
  {
   "cell_type": "markdown",
   "id": "8077d8b7-a946-415a-8e6a-480631a92486",
   "metadata": {},
   "source": [
    "## Data Science Libraries\r\n",
    "\r\n",
    "Some commonly used data science libraries include:\r\n",
    "\r\n",
    "- **Python:**\r\n",
    "  - NumPy\r\n",
    "  - Pandas\r\n",
    "  - Matplotlib\r\n",
    "  - Seaborn\r\n",
    "  - Scikit-learn\r\n",
    "  - TensorFlow\r\n",
    "  - Keras\r\n",
    "  - PyTorch\r\n",
    "  - Statsmodels\r\n",
    "  \r\n",
    "- **R:**\r\n",
    "  - ggplot2\r\n",
    "  - dplyr\r\n",
    "  - tidyr\r\n",
    "  - caret\r\n",
    "  - shiny\r\n",
    "  - data.table\r\n",
    "  - mlr3\r\n",
    "  - randomForest\r\n",
    "  \r\n",
    "- **Java:**\r\n",
    "  - Weka\r\n",
    "  - Deeplearning4j\r\n",
    "  - MOA\r\n",
    "  \r\n",
    "- **Scala:**\r\n",
    "  - Breeze\r\n",
    "  - Spark MLlib\r\n",
    "\r\n",
    "These libraries provide a range of functionalities from data manipulation and visualization to machine learning and deep learning.\r\n"
   ]
  },
  {
   "cell_type": "markdown",
   "id": "0932ff80-5d55-4067-84cb-08a292bfe536",
   "metadata": {},
   "source": [
    "## Data Science Tools\r\n",
    "\r\n",
    "| Tool             | Description                                       |\r\n",
    "|------------------|---------------------------------------------------|\r\n",
    "| Jupyter Notebook | An open-source web application for creating and sharing documents with live code, equations, visualizations, and narrative text. |\r\n",
    "| RStudio          | An integrated development environment for R.      |\r\n",
    "| Apache Spark     | An open-source unified analytics engine for large-scale data processing. |\r\n",
    "| Tableau          | A powerful data visualization tool used for business intelligence. |\r\n",
    "| TensorFlow       | An open-source platform for machine learning.     |\r\n",
    "| KNIME            | An open-source data analytics, reporting, and integration platform. |\r\n"
   ]
  },
  {
   "cell_type": "markdown",
   "id": "cdab974e-a169-40a6-9f54-7e41dbca7773",
   "metadata": {},
   "source": [
    "## Arithmetic Expression Examples\n",
    "\n",
    "In this section, we will look at some basic arithmetic expressions, including addition, subtraction, multiplication, and division. Arithmetic operations are fundamental in data science for data manipulation and analysis.\n"
   ]
  },
  {
   "cell_type": "markdown",
   "id": "16b1bed3-babb-434a-b25e-9f882196372b",
   "metadata": {},
   "source": [
    "# Multiplication and Addition\n",
    "a = 5\n",
    "b = 3\n",
    "multiplication_result = a * b\n",
    "addition_result = a + b\n",
    "\n",
    "multiplication_result, addition_result\n"
   ]
  },
  {
   "cell_type": "markdown",
   "id": "8494a9f7-ac81-484a-bb96-8b86bf3232ed",
   "metadata": {},
   "source": [
    "# Convert minutes to hours\n",
    "minutes = 150\n",
    "hours = minutes / 60\n",
    "hours\n"
   ]
  },
  {
   "cell_type": "markdown",
   "id": "2a5bbfce-3438-4488-ac43-59aad78eee3b",
   "metadata": {},
   "source": [
    "## Objectives\n",
    "\n",
    "- Understand the basics of data science tools and techniques.\n",
    "- Learn how to use Jupyterlite Notebook for data analysis and sharing.\n",
    "- Practice basic arithmetic operations in Python.\n",
    "- Convert units of measurement (e.g., minutes to hours) using Python.\n",
    "- Share the final project publicly via GitHub.\n"
   ]
  },
  {
   "cell_type": "markdown",
   "id": "38e7d66e-9ace-4bb6-b508-29d05129c3c2",
   "metadata": {},
   "source": [
    "## Author\n",
    "\n",
    "Himanshu Chaudhary"
   ]
  },
  {
   "cell_type": "code",
   "execution_count": null,
   "id": "5c6d1616-ae75-43b8-bcd3-cb13068ca119",
   "metadata": {},
   "outputs": [],
   "source": []
  }
 ],
 "metadata": {
  "kernelspec": {
   "display_name": "Python 3 (ipykernel)",
   "language": "python",
   "name": "python3"
  },
  "language_info": {
   "codemirror_mode": {
    "name": "ipython",
    "version": 3
   },
   "file_extension": ".py",
   "mimetype": "text/x-python",
   "name": "python",
   "nbconvert_exporter": "python",
   "pygments_lexer": "ipython3",
   "version": "3.11.7"
  }
 },
 "nbformat": 4,
 "nbformat_minor": 5
}
